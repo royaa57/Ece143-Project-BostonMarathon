{
 "cells": [
  {
   "cell_type": "code",
   "execution_count": 1,
   "metadata": {},
   "outputs": [],
   "source": [
    "import csv\n",
    "import pandas as pd\n",
    "import numpy as np\n",
    "from pandas import Series, DataFrame"
   ]
  },
  {
   "cell_type": "code",
   "execution_count": 2,
   "metadata": {},
   "outputs": [],
   "source": [
    "data2015 = pd.read_csv('marathon_results_2015.csv')\n",
    "data2016 = pd.read_csv('marathon_results_2016.csv')\n",
    "data2017= pd.read_csv(\"marathon_results_2017.csv\")"
   ]
  },
  {
   "cell_type": "code",
   "execution_count": 3,
   "metadata": {},
   "outputs": [
    {
     "data": {
      "text/plain": [
       "(26598, 26630, 26410)"
      ]
     },
     "execution_count": 3,
     "metadata": {},
     "output_type": "execute_result"
    }
   ],
   "source": [
    "len(data2015),len(data2016),len(data2017)"
   ]
  },
  {
   "cell_type": "code",
   "execution_count": 4,
   "metadata": {},
   "outputs": [
    {
     "data": {
      "text/plain": [
       "Index(['Unnamed: 0', 'Bib', 'Name', 'Age', 'M/F', 'City', 'State', 'Country',\n",
       "       'Citizen', 'Unnamed: 9', '5K', '10K', '15K', '20K', 'Half', '25K',\n",
       "       '30K', '35K', '40K', 'Pace', 'Proj Time', 'Official Time', 'Overall',\n",
       "       'Gender', 'Division'],\n",
       "      dtype='object')"
      ]
     },
     "execution_count": 4,
     "metadata": {},
     "output_type": "execute_result"
    }
   ],
   "source": [
    "data2015.columns"
   ]
  },
  {
   "cell_type": "code",
   "execution_count": 5,
   "metadata": {},
   "outputs": [
    {
     "name": "stdout",
     "output_type": "stream",
     "text": [
      "<class 'pandas.core.frame.DataFrame'>\n",
      "RangeIndex: 26598 entries, 0 to 26597\n",
      "Data columns (total 25 columns):\n",
      "Unnamed: 0       26598 non-null int64\n",
      "Bib              26598 non-null object\n",
      "Name             26598 non-null object\n",
      "Age              26598 non-null int64\n",
      "M/F              26598 non-null object\n",
      "City             26598 non-null object\n",
      "State            24047 non-null object\n",
      "Country          26598 non-null object\n",
      "Citizen          1064 non-null object\n",
      "Unnamed: 9       67 non-null object\n",
      "5K               26598 non-null object\n",
      "10K              26598 non-null object\n",
      "15K              26598 non-null object\n",
      "20K              26598 non-null object\n",
      "Half             26598 non-null object\n",
      "25K              26598 non-null object\n",
      "30K              26598 non-null object\n",
      "35K              26598 non-null object\n",
      "40K              26598 non-null object\n",
      "Pace             26598 non-null object\n",
      "Proj Time        26598 non-null object\n",
      "Official Time    26598 non-null object\n",
      "Overall          26598 non-null int64\n",
      "Gender           26598 non-null int64\n",
      "Division         26598 non-null int64\n",
      "dtypes: int64(5), object(20)\n",
      "memory usage: 5.1+ MB\n"
     ]
    }
   ],
   "source": [
    "data2015.info()"
   ]
  },
  {
   "cell_type": "code",
   "execution_count": 6,
   "metadata": {},
   "outputs": [],
   "source": [
    "timeData2015 = data2015[['Bib','Age','M/F','Half', 'Official Time', 'Overall']]\n",
    "timeData2016 = data2016[['Bib','Age','M/F','Half', 'Official Time', 'Overall']]\n",
    "timeData2017 = data2017[['Bib','Age','M/F','Half', 'Official Time', 'Overall']]"
   ]
  },
  {
   "cell_type": "code",
   "execution_count": 7,
   "metadata": {},
   "outputs": [],
   "source": [
    "timeData2015 = timeData2015[ ~ timeData2015['Half'].str.contains('-')]\n",
    "timeData2016 = timeData2016[ ~ timeData2016['Half'].str.contains('-')]\n",
    "timeData2017 = timeData2017[ ~ timeData2017['Half'].str.contains('-')]"
   ]
  },
  {
   "cell_type": "code",
   "execution_count": 8,
   "metadata": {},
   "outputs": [],
   "source": [
    "timeData2015 = timeData2015[ ~ timeData2015['Official Time'].str.contains('-')]\n",
    "timeData2016 = timeData2016[ ~ timeData2016['Official Time'].str.contains('-')]\n",
    "timeData2017 = timeData2017[ ~ timeData2017['Official Time'].str.contains('-')]"
   ]
  },
  {
   "cell_type": "code",
   "execution_count": 9,
   "metadata": {},
   "outputs": [],
   "source": [
    "timeData2015['Official Time']= pd.to_timedelta(timeData2015['Official Time'])\n",
    "timeData2015['Half']= pd.to_timedelta(timeData2015['Half'])\n",
    "timeData2016['Official Time']= pd.to_timedelta(timeData2016['Official Time'])\n",
    "timeData2016['Half']= pd.to_timedelta(timeData2016['Half'])\n",
    "timeData2017['Official Time']= pd.to_timedelta(timeData2017['Official Time'])\n",
    "timeData2017['Half']= pd.to_timedelta(timeData2017['Half'])"
   ]
  },
  {
   "cell_type": "code",
   "execution_count": 10,
   "metadata": {},
   "outputs": [
    {
     "data": {
      "text/html": [
       "<div>\n",
       "<style scoped>\n",
       "    .dataframe tbody tr th:only-of-type {\n",
       "        vertical-align: middle;\n",
       "    }\n",
       "\n",
       "    .dataframe tbody tr th {\n",
       "        vertical-align: top;\n",
       "    }\n",
       "\n",
       "    .dataframe thead th {\n",
       "        text-align: right;\n",
       "    }\n",
       "</style>\n",
       "<table border=\"1\" class=\"dataframe\">\n",
       "  <thead>\n",
       "    <tr style=\"text-align: right;\">\n",
       "      <th></th>\n",
       "      <th>Bib</th>\n",
       "      <th>Age</th>\n",
       "      <th>M/F</th>\n",
       "      <th>Half</th>\n",
       "      <th>Official Time</th>\n",
       "      <th>Overall</th>\n",
       "    </tr>\n",
       "  </thead>\n",
       "  <tbody>\n",
       "    <tr>\n",
       "      <th>6859</th>\n",
       "      <td>8949</td>\n",
       "      <td>55</td>\n",
       "      <td>M</td>\n",
       "      <td>01:38:55</td>\n",
       "      <td>03:19:26</td>\n",
       "      <td>6860</td>\n",
       "    </tr>\n",
       "    <tr>\n",
       "      <th>15738</th>\n",
       "      <td>17363</td>\n",
       "      <td>47</td>\n",
       "      <td>F</td>\n",
       "      <td>01:46:21</td>\n",
       "      <td>03:47:55</td>\n",
       "      <td>15739</td>\n",
       "    </tr>\n",
       "    <tr>\n",
       "      <th>12655</th>\n",
       "      <td>11027</td>\n",
       "      <td>46</td>\n",
       "      <td>M</td>\n",
       "      <td>01:43:07</td>\n",
       "      <td>03:37:43</td>\n",
       "      <td>12656</td>\n",
       "    </tr>\n",
       "    <tr>\n",
       "      <th>1970</th>\n",
       "      <td>4690</td>\n",
       "      <td>41</td>\n",
       "      <td>M</td>\n",
       "      <td>01:28:29</td>\n",
       "      <td>02:57:24</td>\n",
       "      <td>1971</td>\n",
       "    </tr>\n",
       "    <tr>\n",
       "      <th>20975</th>\n",
       "      <td>27397</td>\n",
       "      <td>24</td>\n",
       "      <td>M</td>\n",
       "      <td>02:05:40</td>\n",
       "      <td>04:13:06</td>\n",
       "      <td>20976</td>\n",
       "    </tr>\n",
       "  </tbody>\n",
       "</table>\n",
       "</div>"
      ],
      "text/plain": [
       "         Bib  Age M/F     Half Official Time  Overall\n",
       "6859    8949   55   M 01:38:55      03:19:26     6860\n",
       "15738  17363   47   F 01:46:21      03:47:55    15739\n",
       "12655  11027   46   M 01:43:07      03:37:43    12656\n",
       "1970    4690   41   M 01:28:29      02:57:24     1971\n",
       "20975  27397   24   M 02:05:40      04:13:06    20976"
      ]
     },
     "execution_count": 10,
     "metadata": {},
     "output_type": "execute_result"
    }
   ],
   "source": [
    "timeData2015.sample(5)"
   ]
  },
  {
   "cell_type": "code",
   "execution_count": 11,
   "metadata": {},
   "outputs": [],
   "source": [
    "timeData2015['Second Half']=timeData2015['Official Time']-timeData2015['Half']\n",
    "timeData2016['Second Half']=timeData2016['Official Time']-timeData2016['Half']\n",
    "timeData2017['Second Half']=timeData2017['Official Time']-timeData2017['Half']"
   ]
  },
  {
   "cell_type": "code",
   "execution_count": 12,
   "metadata": {},
   "outputs": [
    {
     "data": {
      "text/html": [
       "<div>\n",
       "<style scoped>\n",
       "    .dataframe tbody tr th:only-of-type {\n",
       "        vertical-align: middle;\n",
       "    }\n",
       "\n",
       "    .dataframe tbody tr th {\n",
       "        vertical-align: top;\n",
       "    }\n",
       "\n",
       "    .dataframe thead th {\n",
       "        text-align: right;\n",
       "    }\n",
       "</style>\n",
       "<table border=\"1\" class=\"dataframe\">\n",
       "  <thead>\n",
       "    <tr style=\"text-align: right;\">\n",
       "      <th></th>\n",
       "      <th>Bib</th>\n",
       "      <th>Age</th>\n",
       "      <th>M/F</th>\n",
       "      <th>Half</th>\n",
       "      <th>Official Time</th>\n",
       "      <th>Overall</th>\n",
       "      <th>Second Half</th>\n",
       "    </tr>\n",
       "  </thead>\n",
       "  <tbody>\n",
       "    <tr>\n",
       "      <th>15228</th>\n",
       "      <td>17167</td>\n",
       "      <td>28</td>\n",
       "      <td>F</td>\n",
       "      <td>01:47:20</td>\n",
       "      <td>03:46:03</td>\n",
       "      <td>15229</td>\n",
       "      <td>01:58:43</td>\n",
       "    </tr>\n",
       "    <tr>\n",
       "      <th>16006</th>\n",
       "      <td>29692</td>\n",
       "      <td>53</td>\n",
       "      <td>M</td>\n",
       "      <td>01:54:02</td>\n",
       "      <td>03:48:49</td>\n",
       "      <td>16007</td>\n",
       "      <td>01:54:47</td>\n",
       "    </tr>\n",
       "    <tr>\n",
       "      <th>22674</th>\n",
       "      <td>18495</td>\n",
       "      <td>49</td>\n",
       "      <td>F</td>\n",
       "      <td>02:07:24</td>\n",
       "      <td>04:27:09</td>\n",
       "      <td>22675</td>\n",
       "      <td>02:19:45</td>\n",
       "    </tr>\n",
       "    <tr>\n",
       "      <th>10300</th>\n",
       "      <td>13560</td>\n",
       "      <td>46</td>\n",
       "      <td>F</td>\n",
       "      <td>01:42:22</td>\n",
       "      <td>03:30:28</td>\n",
       "      <td>10301</td>\n",
       "      <td>01:48:06</td>\n",
       "    </tr>\n",
       "    <tr>\n",
       "      <th>21246</th>\n",
       "      <td>24694</td>\n",
       "      <td>57</td>\n",
       "      <td>F</td>\n",
       "      <td>01:55:13</td>\n",
       "      <td>04:15:08</td>\n",
       "      <td>21247</td>\n",
       "      <td>02:19:55</td>\n",
       "    </tr>\n",
       "  </tbody>\n",
       "</table>\n",
       "</div>"
      ],
      "text/plain": [
       "         Bib  Age M/F     Half Official Time  Overall Second Half\n",
       "15228  17167   28   F 01:47:20      03:46:03    15229    01:58:43\n",
       "16006  29692   53   M 01:54:02      03:48:49    16007    01:54:47\n",
       "22674  18495   49   F 02:07:24      04:27:09    22675    02:19:45\n",
       "10300  13560   46   F 01:42:22      03:30:28    10301    01:48:06\n",
       "21246  24694   57   F 01:55:13      04:15:08    21247    02:19:55"
      ]
     },
     "execution_count": 12,
     "metadata": {},
     "output_type": "execute_result"
    }
   ],
   "source": [
    "timeData2015.sample(5)"
   ]
  },
  {
   "cell_type": "code",
   "execution_count": 13,
   "metadata": {},
   "outputs": [],
   "source": [
    "timeData2015['Split Diff']=timeData2015['Second Half'].dt.total_seconds()-timeData2015['Half'].dt.total_seconds()\n",
    "timeData2016['Split Diff']=timeData2016['Second Half'].dt.total_seconds()-timeData2016['Half'].dt.total_seconds()\n",
    "timeData2017['Split Diff']=timeData2017['Second Half'].dt.total_seconds()-timeData2017['Half'].dt.total_seconds()"
   ]
  },
  {
   "cell_type": "code",
   "execution_count": 14,
   "metadata": {},
   "outputs": [
    {
     "data": {
      "text/html": [
       "<div>\n",
       "<style scoped>\n",
       "    .dataframe tbody tr th:only-of-type {\n",
       "        vertical-align: middle;\n",
       "    }\n",
       "\n",
       "    .dataframe tbody tr th {\n",
       "        vertical-align: top;\n",
       "    }\n",
       "\n",
       "    .dataframe thead th {\n",
       "        text-align: right;\n",
       "    }\n",
       "</style>\n",
       "<table border=\"1\" class=\"dataframe\">\n",
       "  <thead>\n",
       "    <tr style=\"text-align: right;\">\n",
       "      <th></th>\n",
       "      <th>Bib</th>\n",
       "      <th>Age</th>\n",
       "      <th>M/F</th>\n",
       "      <th>Half</th>\n",
       "      <th>Official Time</th>\n",
       "      <th>Overall</th>\n",
       "      <th>Second Half</th>\n",
       "      <th>Split Diff</th>\n",
       "    </tr>\n",
       "  </thead>\n",
       "  <tbody>\n",
       "    <tr>\n",
       "      <th>18285</th>\n",
       "      <td>21619</td>\n",
       "      <td>60</td>\n",
       "      <td>M</td>\n",
       "      <td>01:54:07</td>\n",
       "      <td>03:57:21</td>\n",
       "      <td>18286</td>\n",
       "      <td>02:03:14</td>\n",
       "      <td>547.0</td>\n",
       "    </tr>\n",
       "    <tr>\n",
       "      <th>19754</th>\n",
       "      <td>31595</td>\n",
       "      <td>60</td>\n",
       "      <td>M</td>\n",
       "      <td>01:58:17</td>\n",
       "      <td>04:05:11</td>\n",
       "      <td>19755</td>\n",
       "      <td>02:06:54</td>\n",
       "      <td>517.0</td>\n",
       "    </tr>\n",
       "    <tr>\n",
       "      <th>10415</th>\n",
       "      <td>9983</td>\n",
       "      <td>52</td>\n",
       "      <td>M</td>\n",
       "      <td>01:38:21</td>\n",
       "      <td>03:30:49</td>\n",
       "      <td>10416</td>\n",
       "      <td>01:52:28</td>\n",
       "      <td>847.0</td>\n",
       "    </tr>\n",
       "    <tr>\n",
       "      <th>15436</th>\n",
       "      <td>19734</td>\n",
       "      <td>62</td>\n",
       "      <td>M</td>\n",
       "      <td>01:47:21</td>\n",
       "      <td>03:46:46</td>\n",
       "      <td>15437</td>\n",
       "      <td>01:59:25</td>\n",
       "      <td>724.0</td>\n",
       "    </tr>\n",
       "    <tr>\n",
       "      <th>23062</th>\n",
       "      <td>28884</td>\n",
       "      <td>49</td>\n",
       "      <td>M</td>\n",
       "      <td>02:13:19</td>\n",
       "      <td>04:31:27</td>\n",
       "      <td>23063</td>\n",
       "      <td>02:18:08</td>\n",
       "      <td>289.0</td>\n",
       "    </tr>\n",
       "  </tbody>\n",
       "</table>\n",
       "</div>"
      ],
      "text/plain": [
       "         Bib  Age M/F     Half Official Time  Overall Second Half  Split Diff\n",
       "18285  21619   60   M 01:54:07      03:57:21    18286    02:03:14       547.0\n",
       "19754  31595   60   M 01:58:17      04:05:11    19755    02:06:54       517.0\n",
       "10415   9983   52   M 01:38:21      03:30:49    10416    01:52:28       847.0\n",
       "15436  19734   62   M 01:47:21      03:46:46    15437    01:59:25       724.0\n",
       "23062  28884   49   M 02:13:19      04:31:27    23063    02:18:08       289.0"
      ]
     },
     "execution_count": 14,
     "metadata": {},
     "output_type": "execute_result"
    }
   ],
   "source": [
    "timeData2015.sample(5)"
   ]
  },
  {
   "cell_type": "code",
   "execution_count": 15,
   "metadata": {},
   "outputs": [],
   "source": [
    "timeData2015['negative']=timeData2015['Split Diff']<0\n",
    "timeData2016['negative']=timeData2016['Split Diff']<0\n",
    "timeData2017['negative']=timeData2017['Split Diff']<0"
   ]
  },
  {
   "cell_type": "code",
   "execution_count": 16,
   "metadata": {},
   "outputs": [
    {
     "data": {
      "text/html": [
       "<div>\n",
       "<style scoped>\n",
       "    .dataframe tbody tr th:only-of-type {\n",
       "        vertical-align: middle;\n",
       "    }\n",
       "\n",
       "    .dataframe tbody tr th {\n",
       "        vertical-align: top;\n",
       "    }\n",
       "\n",
       "    .dataframe thead th {\n",
       "        text-align: right;\n",
       "    }\n",
       "</style>\n",
       "<table border=\"1\" class=\"dataframe\">\n",
       "  <thead>\n",
       "    <tr style=\"text-align: right;\">\n",
       "      <th></th>\n",
       "      <th>Bib</th>\n",
       "      <th>Age</th>\n",
       "      <th>M/F</th>\n",
       "      <th>Half</th>\n",
       "      <th>Official Time</th>\n",
       "      <th>Overall</th>\n",
       "      <th>Second Half</th>\n",
       "      <th>Split Diff</th>\n",
       "      <th>negative</th>\n",
       "    </tr>\n",
       "  </thead>\n",
       "  <tbody>\n",
       "    <tr>\n",
       "      <th>8507</th>\n",
       "      <td>18334</td>\n",
       "      <td>40</td>\n",
       "      <td>M</td>\n",
       "      <td>01:43:00</td>\n",
       "      <td>03:25:09</td>\n",
       "      <td>8508</td>\n",
       "      <td>01:42:09</td>\n",
       "      <td>-51.0</td>\n",
       "      <td>True</td>\n",
       "    </tr>\n",
       "    <tr>\n",
       "      <th>12589</th>\n",
       "      <td>16791</td>\n",
       "      <td>38</td>\n",
       "      <td>F</td>\n",
       "      <td>01:45:33</td>\n",
       "      <td>03:37:29</td>\n",
       "      <td>12590</td>\n",
       "      <td>01:51:56</td>\n",
       "      <td>383.0</td>\n",
       "      <td>False</td>\n",
       "    </tr>\n",
       "    <tr>\n",
       "      <th>14667</th>\n",
       "      <td>20801</td>\n",
       "      <td>45</td>\n",
       "      <td>F</td>\n",
       "      <td>01:48:41</td>\n",
       "      <td>03:44:04</td>\n",
       "      <td>14668</td>\n",
       "      <td>01:55:23</td>\n",
       "      <td>402.0</td>\n",
       "      <td>False</td>\n",
       "    </tr>\n",
       "    <tr>\n",
       "      <th>22217</th>\n",
       "      <td>26540</td>\n",
       "      <td>26</td>\n",
       "      <td>F</td>\n",
       "      <td>02:09:41</td>\n",
       "      <td>04:22:51</td>\n",
       "      <td>22218</td>\n",
       "      <td>02:13:10</td>\n",
       "      <td>209.0</td>\n",
       "      <td>False</td>\n",
       "    </tr>\n",
       "    <tr>\n",
       "      <th>18237</th>\n",
       "      <td>11921</td>\n",
       "      <td>47</td>\n",
       "      <td>M</td>\n",
       "      <td>01:54:26</td>\n",
       "      <td>03:57:04</td>\n",
       "      <td>18238</td>\n",
       "      <td>02:02:38</td>\n",
       "      <td>492.0</td>\n",
       "      <td>False</td>\n",
       "    </tr>\n",
       "  </tbody>\n",
       "</table>\n",
       "</div>"
      ],
      "text/plain": [
       "         Bib  Age M/F     Half Official Time  Overall Second Half  Split Diff  \\\n",
       "8507   18334   40   M 01:43:00      03:25:09     8508    01:42:09       -51.0   \n",
       "12589  16791   38   F 01:45:33      03:37:29    12590    01:51:56       383.0   \n",
       "14667  20801   45   F 01:48:41      03:44:04    14668    01:55:23       402.0   \n",
       "22217  26540   26   F 02:09:41      04:22:51    22218    02:13:10       209.0   \n",
       "18237  11921   47   M 01:54:26      03:57:04    18238    02:02:38       492.0   \n",
       "\n",
       "       negative  \n",
       "8507       True  \n",
       "12589     False  \n",
       "14667     False  \n",
       "22217     False  \n",
       "18237     False  "
      ]
     },
     "execution_count": 16,
     "metadata": {},
     "output_type": "execute_result"
    }
   ],
   "source": [
    "timeData2015.sample(5)"
   ]
  },
  {
   "cell_type": "code",
   "execution_count": 17,
   "metadata": {},
   "outputs": [],
   "source": [
    "N=timeData2015['Overall'].max()\n",
    "bins=(range(0,110,10)*N)/100\n",
    "labels=range(10,110,10)\n",
    "timeData2015['binned'] = pd.cut(timeData2015['Overall'], bins=bins, labels=labels)\n",
    "N=timeData2016['Overall'].max()\n",
    "bins=(range(0,110,10)*N)/100\n",
    "labels=range(10,110,10)\n",
    "timeData2016['binned'] = pd.cut(timeData2016['Overall'], bins=bins, labels=labels)\n",
    "N=timeData2017['Overall'].max()\n",
    "bins=(range(0,110,10)*N)/100\n",
    "labels=range(10,110,10)\n",
    "timeData2017['binned'] = pd.cut(timeData2017['Overall'], bins=bins, labels=labels)"
   ]
  },
  {
   "cell_type": "code",
   "execution_count": 18,
   "metadata": {},
   "outputs": [
    {
     "data": {
      "text/plain": [
       "(26598, 26570)"
      ]
     },
     "execution_count": 18,
     "metadata": {},
     "output_type": "execute_result"
    }
   ],
   "source": [
    "timeData2015['Overall'].max(), len(timeData2015)"
   ]
  },
  {
   "cell_type": "code",
   "execution_count": 19,
   "metadata": {},
   "outputs": [],
   "source": [
    "df2015=timeData2015.groupby(['binned'])['negative'].value_counts()\n",
    "df2016=timeData2016.groupby(['binned'])['negative'].value_counts()\n",
    "df2017=timeData2017.groupby(['binned'])['negative'].value_counts()"
   ]
  },
  {
   "cell_type": "code",
   "execution_count": 20,
   "metadata": {},
   "outputs": [],
   "source": [
    "x2015=[]\n",
    "y2015=[]\n",
    "for key,value in df2015.items():\n",
    "    b, t = key\n",
    "    if t == True:\n",
    "        x2015.append(b)\n",
    "        y2015.append(value)\n",
    "x2016=[]\n",
    "y2016=[]\n",
    "for key,value in df2016.items():\n",
    "    b, t = key\n",
    "    if t == True:\n",
    "        x2016.append(b)\n",
    "        y2016.append(value)\n",
    "x2017=[]\n",
    "y2017=[]\n",
    "for key,value in df2017.items():\n",
    "    b, t = key\n",
    "    if t == True:\n",
    "        x2017.append(b)\n",
    "        y2017.append(value)"
   ]
  },
  {
   "cell_type": "code",
   "execution_count": 22,
   "metadata": {},
   "outputs": [
    {
     "data": {
      "image/png": "[encoded data removed]",
      "text/plain": [
       "<Figure size 432x288 with 1 Axes>"
      ]
     },
     "metadata": {},
     "output_type": "display_data"
    }
   ],
   "source": [
    "%matplotlib inline\n",
    "from matplotlib.pyplot import subplots\n",
    "fig, ax = subplots()\n",
    "#fig.set_size_inches(18,4)\n",
    "ax.plot(x2015, y2015, x2016, y2016, x2017, y2017)\n",
    "ax.set_xlabel(\"Rank Percentile\")\n",
    "ax.set_ylabel(\"Number with Negative Split\")\n",
    "fig.savefig(\"split-rank.png\",dpi=500)"
   ]
  },
  {
   "cell_type": "code",
   "execution_count": 106,
   "metadata": {},
   "outputs": [],
   "source": [
    "timeData2015['percent'] = (timeData2015['Split Diff']*100)/timeData2015['Half'].dt.total_seconds()"
   ]
  },
  {
   "cell_type": "code",
   "execution_count": 110,
   "metadata": {},
   "outputs": [],
   "source": [
    "timeData2015['percentInt']=np.rint(timeData2015['percent'])"
   ]
  },
  {
   "cell_type": "code",
   "execution_count": 111,
   "metadata": {},
   "outputs": [],
   "source": [
    "splitChart = timeData2015['percentInt'].value_counts().rename_axis('split percent').reset_index(name='counts')"
   ]
  },
  {
   "cell_type": "code",
   "execution_count": 162,
   "metadata": {},
   "outputs": [
    {
     "data": {
      "image/png": "[encoded data removed]",
      "text/plain": [
       "<Figure size 432x288 with 1 Axes>"
      ]
     },
     "metadata": {},
     "output_type": "display_data"
    }
   ],
   "source": [
    "import matplotlib.pyplot as plt\n",
    "splitChart.plot.scatter(x='split percent',y='counts')\n",
    "plt.savefig(\"percent-split.png\",dpi=500)"
   ]
  },
  {
   "cell_type": "code",
   "execution_count": null,
   "metadata": {},
   "outputs": [],
   "source": []
  }
 ],
 "metadata": {
  "kernelspec": {
   "display_name": "Python 3",
   "language": "python",
   "name": "python3"
  },
  "language_info": {
   "codemirror_mode": {
    "name": "ipython",
    "version": 3
   },
   "file_extension": ".py",
   "mimetype": "text/x-python",
   "name": "python",
   "nbconvert_exporter": "python",
   "pygments_lexer": "ipython3",
   "version": "3.6.5"
  }
 },
 "nbformat": 4,
 "nbformat_minor": 2
}
