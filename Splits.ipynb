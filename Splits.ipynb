{
 "cells": [
  {
   "cell_type": "code",
   "execution_count": 1,
   "metadata": {},
   "outputs": [],
   "source": [
    "import csv\n",
    "import pandas as pd\n",
    "import numpy as np\n",
    "from pandas import Series, DataFrame"
   ]
  },
  {
   "cell_type": "code",
   "execution_count": 2,
   "metadata": {},
   "outputs": [],
   "source": [
    "data2015 = pd.read_csv('marathon_results_2015.csv')\n",
    "data2016 = pd.read_csv('marathon_results_2016.csv')\n",
    "data2017= pd.read_csv(\"marathon_results_2017.csv\")"
   ]
  },
  {
   "cell_type": "code",
   "execution_count": 3,
   "metadata": {},
   "outputs": [
    {
     "data": {
      "text/plain": [
       "(26598, 26630, 26410)"
      ]
     },
     "execution_count": 3,
     "metadata": {},
     "output_type": "execute_result"
    }
   ],
   "source": [
    "len(data2015),len(data2016),len(data2017)"
   ]
  },
  {
   "cell_type": "code",
   "execution_count": 4,
   "metadata": {},
   "outputs": [
    {
     "data": {
      "text/plain": [
       "Index(['Unnamed: 0', 'Bib', 'Name', 'Age', 'M/F', 'City', 'State', 'Country',\n",
       "       'Citizen', 'Unnamed: 9', '5K', '10K', '15K', '20K', 'Half', '25K',\n",
       "       '30K', '35K', '40K', 'Pace', 'Proj Time', 'Official Time', 'Overall',\n",
       "       'Gender', 'Division'],\n",
       "      dtype='object')"
      ]
     },
     "execution_count": 4,
     "metadata": {},
     "output_type": "execute_result"
    }
   ],
   "source": [
    "data2015.columns"
   ]
  },
  {
   "cell_type": "code",
   "execution_count": 5,
   "metadata": {},
   "outputs": [],
   "source": [
    "timeData2015 = data2015[['Bib','Age','M/F','Half', 'Official Time', 'Overall']]\n",
    "timeData2016 = data2016[['Bib','Age','M/F','Half', 'Official Time', 'Overall']]\n",
    "timeData2017 = data2017[['Bib','Age','M/F','Half', 'Official Time', 'Overall']]"
   ]
  },
  {
   "cell_type": "code",
   "execution_count": 6,
   "metadata": {},
   "outputs": [],
   "source": [
    "timeData2015 = timeData2015[ ~ timeData2015['Half'].str.contains('-')]\n",
    "timeData2016 = timeData2016[ ~ timeData2016['Half'].str.contains('-')]\n",
    "timeData2017 = timeData2017[ ~ timeData2017['Half'].str.contains('-')]"
   ]
  },
  {
   "cell_type": "code",
   "execution_count": 7,
   "metadata": {},
   "outputs": [],
   "source": [
    "timeData2015 = timeData2015[ ~ timeData2015['Official Time'].str.contains('-')]\n",
    "timeData2016 = timeData2016[ ~ timeData2016['Official Time'].str.contains('-')]\n",
    "timeData2017 = timeData2017[ ~ timeData2017['Official Time'].str.contains('-')]"
   ]
  },
  {
   "cell_type": "code",
   "execution_count": 8,
   "metadata": {},
   "outputs": [],
   "source": [
    "timeData2015['Official Time']= pd.to_timedelta(timeData2015['Official Time'])\n",
    "timeData2015['Half']= pd.to_timedelta(timeData2015['Half'])\n",
    "timeData2016['Official Time']= pd.to_timedelta(timeData2016['Official Time'])\n",
    "timeData2016['Half']= pd.to_timedelta(timeData2016['Half'])\n",
    "timeData2017['Official Time']= pd.to_timedelta(timeData2017['Official Time'])\n",
    "timeData2017['Half']= pd.to_timedelta(timeData2017['Half'])"
   ]
  },
  {
   "cell_type": "code",
   "execution_count": 9,
   "metadata": {},
   "outputs": [
    {
     "data": {
      "text/html": [
       "<div>\n",
       "<style scoped>\n",
       "    .dataframe tbody tr th:only-of-type {\n",
       "        vertical-align: middle;\n",
       "    }\n",
       "\n",
       "    .dataframe tbody tr th {\n",
       "        vertical-align: top;\n",
       "    }\n",
       "\n",
       "    .dataframe thead th {\n",
       "        text-align: right;\n",
       "    }\n",
       "</style>\n",
       "<table border=\"1\" class=\"dataframe\">\n",
       "  <thead>\n",
       "    <tr style=\"text-align: right;\">\n",
       "      <th></th>\n",
       "      <th>Bib</th>\n",
       "      <th>Age</th>\n",
       "      <th>M/F</th>\n",
       "      <th>Half</th>\n",
       "      <th>Official Time</th>\n",
       "      <th>Overall</th>\n",
       "    </tr>\n",
       "  </thead>\n",
       "  <tbody>\n",
       "    <tr>\n",
       "      <th>6837</th>\n",
       "      <td>4261</td>\n",
       "      <td>57</td>\n",
       "      <td>M</td>\n",
       "      <td>01:36:32</td>\n",
       "      <td>03:19:21</td>\n",
       "      <td>6838</td>\n",
       "    </tr>\n",
       "    <tr>\n",
       "      <th>20241</th>\n",
       "      <td>24795</td>\n",
       "      <td>65</td>\n",
       "      <td>M</td>\n",
       "      <td>01:53:31</td>\n",
       "      <td>04:08:11</td>\n",
       "      <td>20242</td>\n",
       "    </tr>\n",
       "    <tr>\n",
       "      <th>20198</th>\n",
       "      <td>24370</td>\n",
       "      <td>50</td>\n",
       "      <td>F</td>\n",
       "      <td>01:53:35</td>\n",
       "      <td>04:07:58</td>\n",
       "      <td>20199</td>\n",
       "    </tr>\n",
       "    <tr>\n",
       "      <th>5383</th>\n",
       "      <td>6863</td>\n",
       "      <td>46</td>\n",
       "      <td>M</td>\n",
       "      <td>01:33:55</td>\n",
       "      <td>03:13:20</td>\n",
       "      <td>5384</td>\n",
       "    </tr>\n",
       "    <tr>\n",
       "      <th>10008</th>\n",
       "      <td>19193</td>\n",
       "      <td>50</td>\n",
       "      <td>F</td>\n",
       "      <td>01:43:03</td>\n",
       "      <td>03:29:35</td>\n",
       "      <td>10009</td>\n",
       "    </tr>\n",
       "  </tbody>\n",
       "</table>\n",
       "</div>"
      ],
      "text/plain": [
       "         Bib  Age M/F     Half Official Time  Overall\n",
       "6837    4261   57   M 01:36:32      03:19:21     6838\n",
       "20241  24795   65   M 01:53:31      04:08:11    20242\n",
       "20198  24370   50   F 01:53:35      04:07:58    20199\n",
       "5383    6863   46   M 01:33:55      03:13:20     5384\n",
       "10008  19193   50   F 01:43:03      03:29:35    10009"
      ]
     },
     "execution_count": 9,
     "metadata": {},
     "output_type": "execute_result"
    }
   ],
   "source": [
    "timeData2015.sample(5)"
   ]
  },
  {
   "cell_type": "code",
   "execution_count": 10,
   "metadata": {},
   "outputs": [],
   "source": [
    "timeData2015['Second Half']=timeData2015['Official Time']-timeData2015['Half']\n",
    "timeData2016['Second Half']=timeData2016['Official Time']-timeData2016['Half']\n",
    "timeData2017['Second Half']=timeData2017['Official Time']-timeData2017['Half']"
   ]
  },
  {
   "cell_type": "code",
   "execution_count": 11,
   "metadata": {},
   "outputs": [],
   "source": [
    "timeData2015['Split Diff']=timeData2015['Second Half'].dt.total_seconds()-timeData2015['Half'].dt.total_seconds()\n",
    "timeData2016['Split Diff']=timeData2016['Second Half'].dt.total_seconds()-timeData2016['Half'].dt.total_seconds()\n",
    "timeData2017['Split Diff']=timeData2017['Second Half'].dt.total_seconds()-timeData2017['Half'].dt.total_seconds()"
   ]
  },
  {
   "cell_type": "code",
   "execution_count": 12,
   "metadata": {},
   "outputs": [
    {
     "data": {
      "text/html": [
       "<div>\n",
       "<style scoped>\n",
       "    .dataframe tbody tr th:only-of-type {\n",
       "        vertical-align: middle;\n",
       "    }\n",
       "\n",
       "    .dataframe tbody tr th {\n",
       "        vertical-align: top;\n",
       "    }\n",
       "\n",
       "    .dataframe thead th {\n",
       "        text-align: right;\n",
       "    }\n",
       "</style>\n",
       "<table border=\"1\" class=\"dataframe\">\n",
       "  <thead>\n",
       "    <tr style=\"text-align: right;\">\n",
       "      <th></th>\n",
       "      <th>Bib</th>\n",
       "      <th>Age</th>\n",
       "      <th>M/F</th>\n",
       "      <th>Half</th>\n",
       "      <th>Official Time</th>\n",
       "      <th>Overall</th>\n",
       "      <th>Second Half</th>\n",
       "      <th>Split Diff</th>\n",
       "    </tr>\n",
       "  </thead>\n",
       "  <tbody>\n",
       "    <tr>\n",
       "      <th>14130</th>\n",
       "      <td>29981</td>\n",
       "      <td>36</td>\n",
       "      <td>M</td>\n",
       "      <td>01:48:27</td>\n",
       "      <td>03:42:14</td>\n",
       "      <td>14131</td>\n",
       "      <td>01:53:47</td>\n",
       "      <td>320.0</td>\n",
       "    </tr>\n",
       "    <tr>\n",
       "      <th>26399</th>\n",
       "      <td>26954</td>\n",
       "      <td>22</td>\n",
       "      <td>F</td>\n",
       "      <td>02:52:13</td>\n",
       "      <td>05:53:13</td>\n",
       "      <td>26400</td>\n",
       "      <td>03:01:00</td>\n",
       "      <td>527.0</td>\n",
       "    </tr>\n",
       "    <tr>\n",
       "      <th>10005</th>\n",
       "      <td>18964</td>\n",
       "      <td>37</td>\n",
       "      <td>F</td>\n",
       "      <td>01:39:42</td>\n",
       "      <td>03:29:34</td>\n",
       "      <td>10006</td>\n",
       "      <td>01:49:52</td>\n",
       "      <td>610.0</td>\n",
       "    </tr>\n",
       "    <tr>\n",
       "      <th>22689</th>\n",
       "      <td>17735</td>\n",
       "      <td>58</td>\n",
       "      <td>M</td>\n",
       "      <td>02:08:19</td>\n",
       "      <td>04:27:19</td>\n",
       "      <td>22690</td>\n",
       "      <td>02:19:00</td>\n",
       "      <td>641.0</td>\n",
       "    </tr>\n",
       "    <tr>\n",
       "      <th>5648</th>\n",
       "      <td>7214</td>\n",
       "      <td>48</td>\n",
       "      <td>M</td>\n",
       "      <td>01:33:13</td>\n",
       "      <td>03:14:22</td>\n",
       "      <td>5649</td>\n",
       "      <td>01:41:09</td>\n",
       "      <td>476.0</td>\n",
       "    </tr>\n",
       "  </tbody>\n",
       "</table>\n",
       "</div>"
      ],
      "text/plain": [
       "         Bib  Age M/F     Half Official Time  Overall Second Half  Split Diff\n",
       "14130  29981   36   M 01:48:27      03:42:14    14131    01:53:47       320.0\n",
       "26399  26954   22   F 02:52:13      05:53:13    26400    03:01:00       527.0\n",
       "10005  18964   37   F 01:39:42      03:29:34    10006    01:49:52       610.0\n",
       "22689  17735   58   M 02:08:19      04:27:19    22690    02:19:00       641.0\n",
       "5648    7214   48   M 01:33:13      03:14:22     5649    01:41:09       476.0"
      ]
     },
     "execution_count": 12,
     "metadata": {},
     "output_type": "execute_result"
    }
   ],
   "source": [
    "timeData2015.sample(5)"
   ]
  },
  {
   "cell_type": "code",
   "execution_count": 13,
   "metadata": {},
   "outputs": [],
   "source": [
    "timeData2015['negative']=timeData2015['Split Diff']<0\n",
    "timeData2016['negative']=timeData2016['Split Diff']<0\n",
    "timeData2017['negative']=timeData2017['Split Diff']<0"
   ]
  },
  {
   "cell_type": "code",
   "execution_count": 14,
   "metadata": {},
   "outputs": [],
   "source": [
    "N=timeData2015['Overall'].max()\n",
    "bins=(range(0,110,10)*N)/100\n",
    "labels=range(10,110,10)\n",
    "timeData2015['binned'] = pd.cut(timeData2015['Overall'], bins=bins, labels=labels)\n",
    "N=timeData2016['Overall'].max()\n",
    "bins=(range(0,110,10)*N)/100\n",
    "labels=range(10,110,10)\n",
    "timeData2016['binned'] = pd.cut(timeData2016['Overall'], bins=bins, labels=labels)\n",
    "N=timeData2017['Overall'].max()\n",
    "bins=(range(0,110,10)*N)/100\n",
    "labels=range(10,110,10)\n",
    "timeData2017['binned'] = pd.cut(timeData2017['Overall'], bins=bins, labels=labels)"
   ]
  },
  {
   "cell_type": "code",
   "execution_count": 15,
   "metadata": {},
   "outputs": [],
   "source": [
    "df2015=timeData2015.groupby(['binned'])['negative'].value_counts()\n",
    "df2016=timeData2016.groupby(['binned'])['negative'].value_counts()\n",
    "df2017=timeData2017.groupby(['binned'])['negative'].value_counts()"
   ]
  },
  {
   "cell_type": "code",
   "execution_count": 16,
   "metadata": {},
   "outputs": [],
   "source": [
    "x2015=[]\n",
    "y2015=[]\n",
    "for key,value in df2015.items():\n",
    "    b, t = key\n",
    "    if t == True:\n",
    "        x2015.append(b)\n",
    "        y2015.append(value)\n",
    "x2016=[]\n",
    "y2016=[]\n",
    "for key,value in df2016.items():\n",
    "    b, t = key\n",
    "    if t == True:\n",
    "        x2016.append(b)\n",
    "        y2016.append(value)\n",
    "x2017=[]\n",
    "y2017=[]\n",
    "for key,value in df2017.items():\n",
    "    b, t = key\n",
    "    if t == True:\n",
    "        x2017.append(b)\n",
    "        y2017.append(value)"
   ]
  },
  {
   "cell_type": "code",
   "execution_count": 17,
   "metadata": {},
   "outputs": [
    {
     "data": {
      "image/png": "[encoded data removed]",
      "text/plain": [
       "<Figure size 432x288 with 1 Axes>"
      ]
     },
     "metadata": {},
     "output_type": "display_data"
    }
   ],
   "source": [
    "%matplotlib inline\n",
    "from matplotlib.pyplot import subplots\n",
    "fig, ax = subplots()\n",
    "#fig.set_size_inches(18,4)\n",
    "ax.plot(x2015, y2015, label=\"2015\")\n",
    "ax.plot(x2016, y2016, label=\"2016\")\n",
    "ax.plot(x2017, y2017, label=\"2017\")\n",
    "ax.legend()\n",
    "\n",
    "ax.set_xlabel(\"Rank Percentile\")\n",
    "ax.set_ylabel(\"Number with Negative Split\")\n",
    "fig.savefig(\"split-rank.png\",dpi=500)"
   ]
  },
  {
   "cell_type": "markdown",
   "metadata": {},
   "source": [
    "How many runners ran a negative split in top 10th, 20th, ... percentiles."
   ]
  },
  {
   "cell_type": "code",
   "execution_count": 18,
   "metadata": {},
   "outputs": [],
   "source": [
    "timeData2015['percent'] = (timeData2015['Split Diff']*100)/timeData2015['Half'].dt.total_seconds()\n",
    "timeData2015['percentInt']=np.rint(timeData2015['percent'])"
   ]
  },
  {
   "cell_type": "code",
   "execution_count": 21,
   "metadata": {},
   "outputs": [],
   "source": [
    "splitChart2015 = timeData2015['percentInt'].value_counts().rename_axis('split percent').reset_index(name='counts')"
   ]
  },
  {
   "cell_type": "code",
   "execution_count": 23,
   "metadata": {},
   "outputs": [
    {
     "data": {
      "image/png": "[encoded data removed]",
      "text/plain": [
       "<Figure size 432x288 with 1 Axes>"
      ]
     },
     "metadata": {},
     "output_type": "display_data"
    }
   ],
   "source": [
    "fig, ax = subplots()\n",
    "splitChart2015.plot.scatter(x='split percent',y='counts', ax=ax)\n",
    "fig.savefig(\"percent-split.png\",dpi=500)"
   ]
  },
  {
   "cell_type": "markdown",
   "metadata": {},
   "source": [
    "The split percent is how much more time it took the runner to finish second half than first half expressed in percents. (100*(Second half time-first half time)/ first half time))"
   ]
  },
  {
   "cell_type": "code",
   "execution_count": null,
   "metadata": {},
   "outputs": [],
   "source": []
  }
 ],
 "metadata": {
  "kernelspec": {
   "display_name": "Python 3",
   "language": "python",
   "name": "python3"
  },
  "language_info": {
   "codemirror_mode": {
    "name": "ipython",
    "version": 3
   },
   "file_extension": ".py",
   "mimetype": "text/x-python",
   "name": "python",
   "nbconvert_exporter": "python",
   "pygments_lexer": "ipython3",
   "version": "3.6.5"
  }
 },
 "nbformat": 4,
 "nbformat_minor": 2
}
