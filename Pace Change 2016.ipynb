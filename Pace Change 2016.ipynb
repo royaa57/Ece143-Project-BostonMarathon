{
 "cells": [
  {
   "cell_type": "code",
   "execution_count": 44,
   "metadata": {},
   "outputs": [],
   "source": [
    "#import\n",
    "import pandas as pd\n",
    "import numpy as np\n",
    "from pandas import Series, DataFrame\n",
    "import matplotlib.pyplot as plt\n",
    "import matplotlib.mlab as mlab\n",
    "import seaborn as sns\n",
    "sns.set_style(\"whitegrid\")\n",
    "%matplotlib inline"
   ]
  },
  {
   "cell_type": "code",
   "execution_count": 45,
   "metadata": {},
   "outputs": [],
   "source": [
    "\n",
    "#change time string to minites\n",
    "def time_to_min(string):\n",
    "    if string is not '-':\n",
    "        time_segments = string.split(':')\n",
    "        hours = int(time_segments[0])\n",
    "        mins = int(time_segments[1])\n",
    "        sec = int(time_segments[2])\n",
    "        time = hours*60 + mins + np.true_divide(sec,60)\n",
    "        return time\n",
    "    else:\n",
    "        return -1"
   ]
  },
  {
   "cell_type": "code",
   "execution_count": 46,
   "metadata": {},
   "outputs": [],
   "source": [
    "time16 = pd.read_csv('marathon_results_2016.csv')\n",
    "df = time16"
   ]
  },
  {
   "cell_type": "code",
   "execution_count": 47,
   "metadata": {},
   "outputs": [],
   "source": [
    "\n",
    "\n",
    "df['5K_mins'] = df['5K'].apply(lambda x: time_to_min(x))\n",
    "df['10K_mins'] = df['10K'].apply(lambda x: time_to_min(x))\n",
    "df['10K_mins'] = df['10K_mins'] - df['5K_mins'] \n",
    "df['15K_mins'] = df['15K'].apply(lambda x: time_to_min(x))\n",
    "df['15K_mins'] = df['15K_mins'] - df['10K_mins'] -  df['5K_mins']\n",
    "df['Half_mins'] = df['Half'].apply(lambda x: time_to_min(x))\n",
    "df['Half_mins'] = df['Half_mins'] - df['15K_mins'] - df['10K_mins'] -  df['5K_mins']\n",
    "df['20K_mins'] = df['20K'].apply(lambda x: time_to_min(x))\n",
    "df['20K_mins'] = df['20K_mins'] -  df['15K_mins'] - df['10K_mins'] -  df['5K_mins']\n",
    "df['25K_mins'] = df['25K'].apply(lambda x: time_to_min(x))\n",
    "df['25K_mins'] = df['25K_mins'] - df['20K_mins'] -  df['15K_mins'] - df['10K_mins'] -  df['5K_mins']\n",
    "df['30K_mins'] = df['30K'].apply(lambda x: time_to_min(x))\n",
    "df['30K_mins'] = df['30K_mins'] -df['25K_mins'] - df['20K_mins'] -  df['15K_mins'] - df['10K_mins'] -  df['5K_mins']\n",
    "df['35K_mins'] = df['35K'].apply(lambda x: time_to_min(x))\n",
    "df['35K_mins'] = df['35K_mins'] -df['30K_mins'] -df['25K_mins'] - df['20K_mins'] -  df['15K_mins'] - df['10K_mins'] -  df['5K_mins']\n",
    "df['Final_mins'] = df['Official Time'].apply(lambda x: time_to_min(x))\n",
    "df['Final_mins'] = df['Final_mins'] - df['35K_mins'] -df['30K_mins'] -df['25K_mins'] - df['20K_mins'] -  df['15K_mins'] - df['10K_mins'] -  df['5K_mins']\n",
    "df['Pace'] = df['Pace'].apply(lambda x: time_to_min(x))\n",
    "df['5K_pace'] = df['5K_mins']*0.322\n",
    "df['10K_pace'] = df['10K_mins']*0.322\n",
    "df['15K_pace'] = df['15K_mins']*0.322\n",
    "df['20K_pace'] = df['20K_mins']*0.322\n",
    "df['Half_pace'] = df['Half_mins']*0.264\n",
    "df['25K_pace'] = df['25K_mins']*0.322\n",
    "df['30K_pace'] = df['30K_mins']*0.322\n",
    "df['35K_pace'] = df['35K_mins']*0.322\n",
    "df['Final_pace'] = df['Final_mins']*0.224\n"
   ]
  },
  {
   "cell_type": "code",
   "execution_count": 56,
   "metadata": {},
   "outputs": [],
   "source": [
    "#clean data \n",
    "time16.dropna(subset=['M/F'], inplace=True)\n",
    "notblank16 = time16[\"M/F\"].notnull() #clean M/F data\n",
    "male16 = (time16[\"M/F\"] == \"M\")\n",
    "filter_male16 = time16[male16 & notblank16] #data for male\n",
    "female16 = (time16[\"M/F\"] == \"F\")\n",
    "filter_female16 = time16[female16 & notblank16] #data for female\n",
    "columns = ['5K_pace','10K_pace','15K_pace','Half_pace','25K_pace','30K_pace','35K_pace','Final_pace']\n",
    "female16 = filter_female16[:100]\n",
    "avg_f16 = female16[columns].mean()\n",
    "male16 = filter_male16[:100]\n",
    "avg_m16 = male16[columns].mean()\n",
    "avg_all16 = time16[columns].mean()"
   ]
  },
  {
   "cell_type": "code",
   "execution_count": 66,
   "metadata": {
    "scrolled": true
   },
   "outputs": [
    {
     "data": {
      "image/png": "[encoded data removed]",
      "text/plain": [
       "<matplotlib.figure.Figure at 0x1e0eabc9240>"
      ]
     },
     "metadata": {
      "needs_background": "light"
     },
     "output_type": "display_data"
    }
   ],
   "source": [
    "plt.figure() # setup figure\n",
    "x = range(len(columns))\n",
    "plt.plot(x, avg_f16[columns],'rp-', mfc='w',label = 'female16')\n",
    "plt.plot(x, avg_m16[columns], 'go-.',label = 'male16')\n",
    "plt.plot(x, avg_all16[columns], 'b*:', label = 'all runners16')\n",
    "plt.xticks(x, columns, rotation=45)\n",
    "plt.xlabel('Pace') # apply labels\n",
    "plt.ylabel('Time Taken Every 5K (minutes)')\n",
    "plt.legend(loc='best')\n",
    "plt.show() # show figure\n",
    "# plt.savefig('pace changes.jpg', dpi = 500)\n"
   ]
  },
  {
   "cell_type": "code",
   "execution_count": null,
   "metadata": {
    "scrolled": true
   },
   "outputs": [],
   "source": []
  },
  {
   "cell_type": "code",
   "execution_count": null,
   "metadata": {},
   "outputs": [],
   "source": [
    "\n"
   ]
  },
  {
   "cell_type": "code",
   "execution_count": null,
   "metadata": {},
   "outputs": [],
   "source": []
  },
  {
   "cell_type": "code",
   "execution_count": null,
   "metadata": {},
   "outputs": [],
   "source": []
  }
 ],
 "metadata": {
  "kernelspec": {
   "display_name": "Python 3",
   "language": "python",
   "name": "python3"
  },
  "language_info": {
   "codemirror_mode": {
    "name": "ipython",
    "version": 3
   },
   "file_extension": ".py",
   "mimetype": "text/x-python",
   "name": "python",
   "nbconvert_exporter": "python",
   "pygments_lexer": "ipython3",
   "version": "3.6.4"
  }
 },
 "nbformat": 4,
 "nbformat_minor": 2
}
